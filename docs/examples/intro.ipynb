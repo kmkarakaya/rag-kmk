{
 "cells": [
  {
   "cell_type": "code",
   "execution_count": null,
   "metadata": {},
   "outputs": [],
   "source": [
    "#pip install rag-kmk\n",
    "from rag_kmk.knowledge_base import build_knowledge_base  \n",
    "from rag_kmk.vector_db import summarize_collection \n",
    "from rag_kmk.chat_flow import RAG_LLM, run_rag_pipeline    \n",
    "\n",
    "def main():\n",
    "    knowledge_base= build_knowledge_base(r'.\\files')  \n",
    "    summarize_collection(knowledge_base) \n",
    "    run_rag_pipeline(RAG_LLM,knowledge_base)\n",
    "\n",
    "if __name__ == \"__main__\":\n",
    "    main()"
   ]
  }
 ],
 "metadata": {
  "language_info": {
   "name": "python"
  },
  "orig_nbformat": 4
 },
 "nbformat": 4,
 "nbformat_minor": 2
}
